{
 "cells": [
  {
   "cell_type": "code",
   "execution_count": 45,
   "source": [
    "import pandas as pd\n",
    "import csv\n",
    "import numpy as np\n",
    "from datetime import date, timedelta, datetime\n",
    "import pymysql\n",
    "from pmdarima import auto_arima\n",
    "from statsmodels.tsa.arima.model import ARIMA"
   ],
   "outputs": [],
   "metadata": {}
  },
  {
   "cell_type": "code",
   "execution_count": 46,
   "source": [
    "# SQL functions\n",
    "import pymysql\n",
    "endpoint = 'ta10projectinstance1.c0m59tujlbqm.ap-southeast-2.rds.amazonaws.com'\n",
    "username = 'admin'\n",
    "password = 'fit5120ta10'\n",
    "database_name = 'fit5120_i3_schema'\n",
    "client_flag = 'CLIENT.MULTI_STATEMENTS'\n",
    "\n",
    "connection = pymysql.connect(host = endpoint, user = username, passwd = password, db = database_name)\n",
    "cursor = connection.cursor()\n",
    "\n",
    "# Function used to clear all entries in a single table considering no indexes or Foreign keys are present\n",
    "def truncate_handler(table):\n",
    "    #cursor = connection.cursor()\n",
    "    cursor.execute(\"\"\"TRUNCATE {}\"\"\".format(table))\n",
    "    connection.commit()\n",
    "    #connection.close()\n",
    "    return 'table {} has been truncated'.format(table)\n",
    "\n",
    "def country_region_handler(values):\n",
    "    query = \"\"\"INSERT INTO country_region (country_region_id, country_code, region_name) VALUES (%s, %s, %s)\"\"\"\n",
    "    #cursor = connection.cursor()\n",
    "    cursor.execute(query, values)\n",
    "    connection.commit()\n",
    "    #connection.close()\n",
    "    return 'import successful {}'.format(values)\n",
    "\n",
    "def country_handler(values):\n",
    "    query = \"\"\"INSERT INTO country (country_name, country_code) VALUES (%s, %s)\"\"\"\n",
    "    #cursor = connection.cursor()\n",
    "    cursor.execute(query, values)\n",
    "    connection.commit()\n",
    "    #connection.close()\n",
    "    return 'import successful {}'.format(values)\n",
    "\n",
    "def symptom_handler(values):\n",
    "    query = \"\"\"INSERT INTO symptom (symp_id, symp_name) VALUES (%s, %s)\"\"\"\n",
    "    #cursor = connection.cursor()\n",
    "    cursor.execute(query, values)\n",
    "    connection.commit()\n",
    "    #connection.close()\n",
    "    return 'import successful {}'.format(values)\n",
    "\n",
    "def case_details_handler(values):\n",
    "    query = \"\"\"INSERT INTO case_details (case_id, symp_id) VALUES (%s, %s)\"\"\"\n",
    "    #cursor = connection.cursor()\n",
    "    cursor.execute(query, values)\n",
    "    connection.commit()\n",
    "    #connection.close()\n",
    "    return 'import successful {}'.format(values)\n",
    "\n",
    "def case_handler(values):\n",
    "    query = \"\"\"INSERT INTO `case` (case_id, case_status, case_date, case_gender, country_region_id, case_death_date) VALUES (%s, %s, %s, %s, %s, %s)\"\"\"\n",
    "    #cursor = connection.cursor()\n",
    "    cursor.execute(query, values)\n",
    "    connection.commit()\n",
    "    #connection.close()\n",
    "    return 'import successful {}'.format(values)\n",
    "\n",
    "def prediction_handler(values):\n",
    "    query = \"\"\"INSERT INTO predictions (country_region_id, pred_date, pred_count) VALUES (%s, %s, %s)\"\"\"\n",
    "    #cursor = connection.cursor()\n",
    "    cursor.execute(query, values)\n",
    "    connection.commit()\n",
    "    #connection.close()\n",
    "    return 'predictions table has been updated'\n",
    "\n",
    "def query(query):\n",
    "    sql_query = \"\"\"{}\"\"\".format(query)\n",
    "    #cursor = connection.cursor()\n",
    "    cursor.execute(sql_query)\n",
    "    return cursor.fetchall()"
   ],
   "outputs": [],
   "metadata": {}
  },
  {
   "cell_type": "code",
   "execution_count": 47,
   "source": [
    "def prediction():\n",
    "    vic_aug = pd.read_csv(\"https://raw.githubusercontent.com/owid/monkeypox/main/owid-monkeypox-data.csv\") # reading the file\n",
    "    vic_aug=vic_aug.query('location==\"Australia\"') #filtering for australia\n",
    "    vic_aug=vic_aug.reset_index() #reseting index\n",
    "    vic_aug = vic_aug[['date', 'new_cases_smoothed']] #subselection of attributes\n",
    "    EndDate = date.today() + timedelta(days=5)#getting the days from current datetime\n",
    "    sdate=vic_aug.iloc[0,:]['date']#getting the start date\n",
    "    sdate=datetime.strptime(sdate,'%Y-%m-%d').date()#converting to datetime format\n",
    "    time_range=pd.date_range(sdate,EndDate-timedelta(days=1),freq='d')#retrieving the dates \n",
    "    time_range=time_range.to_frame(index=False, name='date') #converting it to a dataframe\n",
    "    time_range['date']=time_range['date'].astype(str) #Converting to string datatype\n",
    "    merged_df=pd.merge(time_range,vic_aug,on='date',how='left') #left joining\n",
    "    merged_df[\"new_cases_smoothed\"].fillna(0, inplace=True)#replacing predicted values to initially 0\n",
    "    step_fit=auto_arima(merged_df['new_cases_smoothed'],trace=True,suppress_warnings=True) #stepwise function for auto arima\n",
    "    model = ARIMA(merged_df.new_cases_smoothed, order=step_fit.get_params().get(\"order\")) # fetching the best parameters\n",
    "    #model=ARIMA(train[''],order=(3,1,0))\n",
    "    model=model.fit()\n",
    "    train=merged_df.iloc[:-100] #splitting training and testing\n",
    "    test=merged_df.iloc[-100:]\n",
    "    start=len(test)\n",
    "    end=len(train)+len(test)-1\n",
    "    pred=model.predict(start=start,end=end,typ='levels') #predicting the values\n",
    "    series1 = pred.to_frame()\n",
    "    series1['predicted_mean'] = series1['predicted_mean'].abs() #taking absolute values\n",
    "    series1['predicted_mean']=series1['predicted_mean'].apply(np.floor)  #flooring the values\n",
    "    series1=series1.iloc[-5:]\n",
    "    test=test.iloc[-5:]\n",
    "    test['pred']=series1['predicted_mean']\n",
    "    test=test[['date','pred']]\n",
    "    return test #returning the dataframe"
   ],
   "outputs": [],
   "metadata": {}
  },
  {
   "cell_type": "markdown",
   "source": [
    "Main function to run the model, truncate the prediction table and push the new data"
   ],
   "metadata": {}
  },
  {
   "cell_type": "code",
   "execution_count": 34,
   "source": [
    "    df = prediction() \n",
    "    # renames all the columns to the appropriate format for the relational database\n",
    "    df = df.rename(columns = {'date': 'pred_date', 'pred':'pred_count'})\n",
    "    # Adds the country_region_id by default it will be AUS_0 due to naming convention\n",
    "    df['country_region_id'] = 'AUS_0'"
   ],
   "outputs": [
    {
     "output_type": "stream",
     "name": "stdout",
     "text": [
      "Performing stepwise search to minimize aic\n",
      " ARIMA(2,1,2)(0,0,0)[0] intercept   : AIC=161.099, Time=0.08 sec\n",
      " ARIMA(0,1,0)(0,0,0)[0] intercept   : AIC=182.397, Time=0.01 sec\n",
      " ARIMA(1,1,0)(0,0,0)[0] intercept   : AIC=177.803, Time=0.01 sec\n",
      " ARIMA(0,1,1)(0,0,0)[0] intercept   : AIC=173.957, Time=0.01 sec\n",
      " ARIMA(0,1,0)(0,0,0)[0]             : AIC=180.400, Time=0.00 sec\n",
      " ARIMA(1,1,2)(0,0,0)[0] intercept   : AIC=174.533, Time=0.03 sec\n",
      " ARIMA(2,1,1)(0,0,0)[0] intercept   : AIC=174.415, Time=0.03 sec\n",
      " ARIMA(3,1,2)(0,0,0)[0] intercept   : AIC=178.287, Time=0.07 sec\n",
      " ARIMA(2,1,3)(0,0,0)[0] intercept   : AIC=162.608, Time=0.13 sec\n",
      " ARIMA(1,1,1)(0,0,0)[0] intercept   : AIC=173.317, Time=0.03 sec\n",
      " ARIMA(1,1,3)(0,0,0)[0] intercept   : AIC=176.506, Time=0.08 sec\n",
      " ARIMA(3,1,1)(0,0,0)[0] intercept   : AIC=176.287, Time=0.08 sec\n",
      " ARIMA(3,1,3)(0,0,0)[0] intercept   : AIC=165.055, Time=0.14 sec\n",
      " ARIMA(2,1,2)(0,0,0)[0]             : AIC=159.102, Time=0.06 sec\n",
      " ARIMA(1,1,2)(0,0,0)[0]             : AIC=172.542, Time=0.01 sec\n",
      " ARIMA(2,1,1)(0,0,0)[0]             : AIC=172.423, Time=0.02 sec\n",
      " ARIMA(3,1,2)(0,0,0)[0]             : AIC=176.295, Time=0.06 sec\n",
      " ARIMA(2,1,3)(0,0,0)[0]             : AIC=160.550, Time=0.11 sec\n",
      " ARIMA(1,1,1)(0,0,0)[0]             : AIC=171.326, Time=0.02 sec\n",
      " ARIMA(1,1,3)(0,0,0)[0]             : AIC=174.514, Time=0.04 sec\n",
      " ARIMA(3,1,1)(0,0,0)[0]             : AIC=174.295, Time=0.02 sec\n",
      " ARIMA(3,1,3)(0,0,0)[0]             : AIC=163.101, Time=0.11 sec\n",
      "\n",
      "Best model:  ARIMA(2,1,2)(0,0,0)[0]          \n",
      "Total fit time: 1.164 seconds\n"
     ]
    }
   ],
   "metadata": {}
  },
  {
   "cell_type": "code",
   "execution_count": 49,
   "source": [
    "def main():\n",
    "    # runs the model\n",
    "    df = prediction() \n",
    "    # renames all the columns to the appropriate format for the relational database\n",
    "    df = df.rename(columns = {'date': 'pred_date', 'pred':'pred_count'})\n",
    "    # Adds the country_region_id by default it will be AUS_0 due to naming convention\n",
    "    df['country_region_id'] = 'AUS_0'\n",
    "    # truncates the prediction table\n",
    "    truncate_handler('predictions')\n",
    "    # uploads the new data into the predictions table\n",
    "    p_df = df.copy()\n",
    "    for row in range(0,p_df.shape[0]):\n",
    "        in_tuple = tuple(p_df.iloc[row, :])\n",
    "        prediction_handler((in_tuple[2], in_tuple[0], in_tuple[1]))\n",
    "    # Closes connection to the rdbs\n",
    "    connection.close()\n",
    "    print('rdbs connection stopped')\n",
    "    return 'prediction table has been updated'\n",
    "main()"
   ],
   "outputs": [
    {
     "output_type": "stream",
     "name": "stdout",
     "text": [
      "Performing stepwise search to minimize aic\n",
      " ARIMA(2,1,2)(0,0,0)[0] intercept   : AIC=161.099, Time=0.08 sec\n",
      " ARIMA(0,1,0)(0,0,0)[0] intercept   : AIC=182.397, Time=0.01 sec\n",
      " ARIMA(1,1,0)(0,0,0)[0] intercept   : AIC=177.803, Time=0.01 sec\n",
      " ARIMA(0,1,1)(0,0,0)[0] intercept   : AIC=173.957, Time=0.01 sec\n",
      " ARIMA(0,1,0)(0,0,0)[0]             : AIC=180.400, Time=0.00 sec\n",
      " ARIMA(1,1,2)(0,0,0)[0] intercept   : AIC=174.533, Time=0.03 sec\n",
      " ARIMA(2,1,1)(0,0,0)[0] intercept   : AIC=174.415, Time=0.03 sec\n",
      " ARIMA(3,1,2)(0,0,0)[0] intercept   : AIC=178.287, Time=0.07 sec\n",
      " ARIMA(2,1,3)(0,0,0)[0] intercept   : AIC=162.608, Time=0.13 sec\n",
      " ARIMA(1,1,1)(0,0,0)[0] intercept   : AIC=173.317, Time=0.03 sec\n",
      " ARIMA(1,1,3)(0,0,0)[0] intercept   : AIC=176.506, Time=0.08 sec\n",
      " ARIMA(3,1,1)(0,0,0)[0] intercept   : AIC=176.287, Time=0.09 sec\n",
      " ARIMA(3,1,3)(0,0,0)[0] intercept   : AIC=165.055, Time=0.14 sec\n",
      " ARIMA(2,1,2)(0,0,0)[0]             : AIC=159.102, Time=0.06 sec\n",
      " ARIMA(1,1,2)(0,0,0)[0]             : AIC=172.542, Time=0.01 sec\n",
      " ARIMA(2,1,1)(0,0,0)[0]             : AIC=172.423, Time=0.02 sec\n",
      " ARIMA(3,1,2)(0,0,0)[0]             : AIC=176.295, Time=0.06 sec\n",
      " ARIMA(2,1,3)(0,0,0)[0]             : AIC=160.550, Time=0.12 sec\n",
      " ARIMA(1,1,1)(0,0,0)[0]             : AIC=171.326, Time=0.02 sec\n",
      " ARIMA(1,1,3)(0,0,0)[0]             : AIC=174.514, Time=0.04 sec\n",
      " ARIMA(3,1,1)(0,0,0)[0]             : AIC=174.295, Time=0.02 sec\n",
      " ARIMA(3,1,3)(0,0,0)[0]             : AIC=163.101, Time=0.10 sec\n",
      "\n",
      "Best model:  ARIMA(2,1,2)(0,0,0)[0]          \n",
      "Total fit time: 1.166 seconds\n"
     ]
    },
    {
     "output_type": "execute_result",
     "data": {
      "text/plain": [
       "'prediction table has been updated'"
      ]
     },
     "metadata": {},
     "execution_count": 49
    }
   ],
   "metadata": {}
  },
  {
   "cell_type": "markdown",
   "source": [
    "Query to check the new data in the prediction table"
   ],
   "metadata": {}
  },
  {
   "cell_type": "code",
   "execution_count": null,
   "source": [
    "query('SELECT * FROM predictions')"
   ],
   "outputs": [
    {
     "output_type": "error",
     "ename": "InterfaceError",
     "evalue": "(0, '')",
     "traceback": [
      "\u001b[0;31m---------------------------------------------------------------------------\u001b[0m",
      "\u001b[0;31mInterfaceError\u001b[0m                            Traceback (most recent call last)",
      "Input \u001b[0;32mIn [52]\u001b[0m, in \u001b[0;36m<cell line: 1>\u001b[0;34m()\u001b[0m\n\u001b[0;32m----> 1\u001b[0m \u001b[43mquery\u001b[49m\u001b[43m(\u001b[49m\u001b[38;5;124;43m'\u001b[39;49m\u001b[38;5;124;43mSELECT * FROM predictions\u001b[39;49m\u001b[38;5;124;43m'\u001b[39;49m\u001b[43m)\u001b[49m\n",
      "Input \u001b[0;32mIn [49]\u001b[0m, in \u001b[0;36mquery\u001b[0;34m(query)\u001b[0m\n\u001b[1;32m     66\u001b[0m sql_query \u001b[38;5;241m=\u001b[39m \u001b[38;5;124m\"\"\"\u001b[39m\u001b[38;5;132;01m{}\u001b[39;00m\u001b[38;5;124m\"\"\"\u001b[39m\u001b[38;5;241m.\u001b[39mformat(query)\n\u001b[1;32m     67\u001b[0m cursor \u001b[38;5;241m=\u001b[39m connection\u001b[38;5;241m.\u001b[39mcursor()\n\u001b[0;32m---> 68\u001b[0m \u001b[43mcursor\u001b[49m\u001b[38;5;241;43m.\u001b[39;49m\u001b[43mexecute\u001b[49m\u001b[43m(\u001b[49m\u001b[43msql_query\u001b[49m\u001b[43m)\u001b[49m\n\u001b[1;32m     69\u001b[0m \u001b[38;5;28;01mreturn\u001b[39;00m cursor\u001b[38;5;241m.\u001b[39mfetchall()\n",
      "File \u001b[0;32m~/.pyenv/versions/3.10.0/lib/python3.10/site-packages/pymysql/cursors.py:148\u001b[0m, in \u001b[0;36mCursor.execute\u001b[0;34m(self, query, args)\u001b[0m\n\u001b[1;32m    144\u001b[0m     \u001b[38;5;28;01mpass\u001b[39;00m\n\u001b[1;32m    146\u001b[0m query \u001b[38;5;241m=\u001b[39m \u001b[38;5;28mself\u001b[39m\u001b[38;5;241m.\u001b[39mmogrify(query, args)\n\u001b[0;32m--> 148\u001b[0m result \u001b[38;5;241m=\u001b[39m \u001b[38;5;28;43mself\u001b[39;49m\u001b[38;5;241;43m.\u001b[39;49m\u001b[43m_query\u001b[49m\u001b[43m(\u001b[49m\u001b[43mquery\u001b[49m\u001b[43m)\u001b[49m\n\u001b[1;32m    149\u001b[0m \u001b[38;5;28mself\u001b[39m\u001b[38;5;241m.\u001b[39m_executed \u001b[38;5;241m=\u001b[39m query\n\u001b[1;32m    150\u001b[0m \u001b[38;5;28;01mreturn\u001b[39;00m result\n",
      "File \u001b[0;32m~/.pyenv/versions/3.10.0/lib/python3.10/site-packages/pymysql/cursors.py:310\u001b[0m, in \u001b[0;36mCursor._query\u001b[0;34m(self, q)\u001b[0m\n\u001b[1;32m    308\u001b[0m \u001b[38;5;28mself\u001b[39m\u001b[38;5;241m.\u001b[39m_last_executed \u001b[38;5;241m=\u001b[39m q\n\u001b[1;32m    309\u001b[0m \u001b[38;5;28mself\u001b[39m\u001b[38;5;241m.\u001b[39m_clear_result()\n\u001b[0;32m--> 310\u001b[0m \u001b[43mconn\u001b[49m\u001b[38;5;241;43m.\u001b[39;49m\u001b[43mquery\u001b[49m\u001b[43m(\u001b[49m\u001b[43mq\u001b[49m\u001b[43m)\u001b[49m\n\u001b[1;32m    311\u001b[0m \u001b[38;5;28mself\u001b[39m\u001b[38;5;241m.\u001b[39m_do_get_result()\n\u001b[1;32m    312\u001b[0m \u001b[38;5;28;01mreturn\u001b[39;00m \u001b[38;5;28mself\u001b[39m\u001b[38;5;241m.\u001b[39mrowcount\n",
      "File \u001b[0;32m~/.pyenv/versions/3.10.0/lib/python3.10/site-packages/pymysql/connections.py:547\u001b[0m, in \u001b[0;36mConnection.query\u001b[0;34m(self, sql, unbuffered)\u001b[0m\n\u001b[1;32m    545\u001b[0m \u001b[38;5;28;01mif\u001b[39;00m \u001b[38;5;28misinstance\u001b[39m(sql, \u001b[38;5;28mstr\u001b[39m):\n\u001b[1;32m    546\u001b[0m     sql \u001b[38;5;241m=\u001b[39m sql\u001b[38;5;241m.\u001b[39mencode(\u001b[38;5;28mself\u001b[39m\u001b[38;5;241m.\u001b[39mencoding, \u001b[38;5;124m\"\u001b[39m\u001b[38;5;124msurrogateescape\u001b[39m\u001b[38;5;124m\"\u001b[39m)\n\u001b[0;32m--> 547\u001b[0m \u001b[38;5;28;43mself\u001b[39;49m\u001b[38;5;241;43m.\u001b[39;49m\u001b[43m_execute_command\u001b[49m\u001b[43m(\u001b[49m\u001b[43mCOMMAND\u001b[49m\u001b[38;5;241;43m.\u001b[39;49m\u001b[43mCOM_QUERY\u001b[49m\u001b[43m,\u001b[49m\u001b[43m \u001b[49m\u001b[43msql\u001b[49m\u001b[43m)\u001b[49m\n\u001b[1;32m    548\u001b[0m \u001b[38;5;28mself\u001b[39m\u001b[38;5;241m.\u001b[39m_affected_rows \u001b[38;5;241m=\u001b[39m \u001b[38;5;28mself\u001b[39m\u001b[38;5;241m.\u001b[39m_read_query_result(unbuffered\u001b[38;5;241m=\u001b[39munbuffered)\n\u001b[1;32m    549\u001b[0m \u001b[38;5;28;01mreturn\u001b[39;00m \u001b[38;5;28mself\u001b[39m\u001b[38;5;241m.\u001b[39m_affected_rows\n",
      "File \u001b[0;32m~/.pyenv/versions/3.10.0/lib/python3.10/site-packages/pymysql/connections.py:793\u001b[0m, in \u001b[0;36mConnection._execute_command\u001b[0;34m(self, command, sql)\u001b[0m\n\u001b[1;32m    788\u001b[0m \u001b[38;5;124;03m\"\"\"\u001b[39;00m\n\u001b[1;32m    789\u001b[0m \u001b[38;5;124;03m:raise InterfaceError: If the connection is closed.\u001b[39;00m\n\u001b[1;32m    790\u001b[0m \u001b[38;5;124;03m:raise ValueError: If no username was specified.\u001b[39;00m\n\u001b[1;32m    791\u001b[0m \u001b[38;5;124;03m\"\"\"\u001b[39;00m\n\u001b[1;32m    792\u001b[0m \u001b[38;5;28;01mif\u001b[39;00m \u001b[38;5;129;01mnot\u001b[39;00m \u001b[38;5;28mself\u001b[39m\u001b[38;5;241m.\u001b[39m_sock:\n\u001b[0;32m--> 793\u001b[0m     \u001b[38;5;28;01mraise\u001b[39;00m err\u001b[38;5;241m.\u001b[39mInterfaceError(\u001b[38;5;241m0\u001b[39m, \u001b[38;5;124m\"\u001b[39m\u001b[38;5;124m\"\u001b[39m)\n\u001b[1;32m    795\u001b[0m \u001b[38;5;66;03m# If the last query was unbuffered, make sure it finishes before\u001b[39;00m\n\u001b[1;32m    796\u001b[0m \u001b[38;5;66;03m# sending new commands\u001b[39;00m\n\u001b[1;32m    797\u001b[0m \u001b[38;5;28;01mif\u001b[39;00m \u001b[38;5;28mself\u001b[39m\u001b[38;5;241m.\u001b[39m_result \u001b[38;5;129;01mis\u001b[39;00m \u001b[38;5;129;01mnot\u001b[39;00m \u001b[38;5;28;01mNone\u001b[39;00m:\n",
      "\u001b[0;31mInterfaceError\u001b[0m: (0, '')"
     ]
    }
   ],
   "metadata": {}
  },
  {
   "cell_type": "code",
   "execution_count": null,
   "source": [],
   "outputs": [],
   "metadata": {}
  }
 ],
 "metadata": {
  "orig_nbformat": 4,
  "language_info": {
   "name": "python",
   "version": "3.10.0",
   "mimetype": "text/x-python",
   "codemirror_mode": {
    "name": "ipython",
    "version": 3
   },
   "pygments_lexer": "ipython3",
   "nbconvert_exporter": "python",
   "file_extension": ".py"
  },
  "kernelspec": {
   "name": "python3",
   "display_name": "Python 3.10.0 64-bit ('3.10.0')"
  },
  "interpreter": {
   "hash": "9204fa191f0fcaf9c61ca1f5ff3a4df7ba6fcba2c3c547282aeaf746cdc365de"
  }
 },
 "nbformat": 4,
 "nbformat_minor": 2
}
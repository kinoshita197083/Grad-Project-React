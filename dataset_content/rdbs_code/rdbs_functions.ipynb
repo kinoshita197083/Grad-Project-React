{
 "cells": [
  {
   "cell_type": "markdown",
   "source": [
    "## THIS FILE CONTAINS ALL THE FUNCTIONS USED TO IMPORT ROWS AND TRUNCATE TABLES IN THE GENERATES RDBS"
   ],
   "metadata": {}
  },
  {
   "cell_type": "code",
   "execution_count": 9,
   "source": [
    "import pymysql\n",
    "endpoint = 'ta10projectinstance1.c0m59tujlbqm.ap-southeast-2.rds.amazonaws.com'\n",
    "username = 'admin'\n",
    "password = 'fit5120ta10'\n",
    "database_name = 'fit5120_i3_schema'\n",
    "client_flag = 'CLIENT.MULTI_STATEMENTS'\n",
    "\n",
    "connection = pymysql.connect(host = endpoint, user = username, passwd = password, db = database_name)\n",
    "\n",
    "# Function used to clear all entries in a single table considering no indexes or Foreign keys are present\n",
    "def truncate_handler(table):\n",
    "    cursor = connection.cursor()\n",
    "    cursor.execute(\"\"\"TRUNCATE {}\"\"\".format(table))\n",
    "    connection.commit()\n",
    "    connection.close()\n",
    "    return 'table {} has been truncated'.format(table)\n",
    "\n",
    "def country_region_handler(values):\n",
    "    query = \"\"\"INSERT INTO country_region (country_region_id, country_code, region_name) VALUES (%s, %s, %s)\"\"\"\n",
    "    cursor = connection.cursor()\n",
    "    cursor.execute(query, values)\n",
    "    connection.commit()\n",
    "    connection.close()\n",
    "    return 'import successful {}'.format(values)\n",
    "\n",
    "def country_handler(values):\n",
    "    query = \"\"\"INSERT INTO country (country_name, country_code) VALUES (%s, %s)\"\"\"\n",
    "    cursor = connection.cursor()\n",
    "    cursor.execute(query, values)\n",
    "    connection.commit()\n",
    "    connection.close()\n",
    "    return 'import successful {}'.format(values)\n",
    "\n",
    "def symptom_handler(values):\n",
    "    query = \"\"\"INSERT INTO symptom (symp_id, symp_name) VALUES (%s, %s)\"\"\"\n",
    "    cursor = connection.cursor()\n",
    "    cursor.execute(query, values)\n",
    "    connection.commit()\n",
    "    connection.close()\n",
    "    return 'import successful {}'.format(values)\n",
    "\n",
    "def case_details_handler(values):\n",
    "    query = \"\"\"INSERT INTO case_details (case_id, symp_id) VALUES (%s, %s)\"\"\"\n",
    "    cursor = connection.cursor()\n",
    "    cursor.execute(query, values)\n",
    "    connection.commit()\n",
    "    connection.close()\n",
    "    return 'import successful {}'.format(values)\n",
    "\n",
    "def case_handler(values):\n",
    "    query = \"\"\"INSERT INTO `case` (case_id, case_status, case_date, case_gender, country_region_id, case_death_date) VALUES (%s, %s, %s, %s, %s, %s)\"\"\"\n",
    "    cursor = connection.cursor()\n",
    "    cursor.execute(query, values)\n",
    "    connection.commit()\n",
    "    connection.close()\n",
    "    return 'import successful {}'.format(values)\n",
    "\n",
    "def prediction_handler(values):\n",
    "    query = \"\"\"INSERT INTO predictions (country_region_id, pred_date, pred_count) VALUES (%s, %s, %s)\"\"\"\n",
    "    cursor = connection.cursor()\n",
    "    cursor.execute(query, values)\n",
    "    connection.commit()\n",
    "    connection.close()\n",
    "    return 'predictions table has been updated'\n",
    "\n",
    "def query(query):\n",
    "    sql_query = \"\"\"{}\"\"\".format(query)\n",
    "    cursor = connection.cursor()\n",
    "    cursor.execute(sql_query)\n",
    "    output = cursor.fetchall()\n",
    "    print(output)\n",
    "    connection.close()\n",
    "    return\n",
    "\n",
    "def delete_row(table, column, value):\n",
    "    sql_query = \"\"\"DELETE FROM `{}` WHERE {} LIKE %{}%\"\"\".format(table, column, value)\n",
    "    cursor = connection.cursor()\n",
    "    cursor.exectue(sql_query)\n",
    "    connection.close()\n",
    "    return 'All rows with {} in column {} has been deleted from table {}'.format(value, column, table)"
   ],
   "outputs": [],
   "metadata": {}
  },
  {
   "cell_type": "code",
   "execution_count": null,
   "source": [
    "# Uploads table for country\n",
    "c_df = pd.read_csv('sql_country.csv')\n",
    "for row in range(0,c_df.shape[0]):\n",
    "    in_tuple = tuple(c_df.iloc[row, :])\n",
    "    country_handler(in_tuple)"
   ],
   "outputs": [],
   "metadata": {}
  },
  {
   "cell_type": "code",
   "execution_count": null,
   "source": [
    "# Uploads table for country_region\n",
    "cr_df = pd.read_csv('sql_country_region.csv')\n",
    "for row in range(0,cr_df.shape[0]):\n",
    "    in_tuple = tuple(cr_df.iloc[row, :])\n",
    "    if type(in_tuple[2]) != str:\n",
    "        country_region_handler((in_tuple[0], in_tuple[1], None))\n",
    "    else:\n",
    "        country_region_handler(in_tuple)"
   ],
   "outputs": [],
   "metadata": {}
  },
  {
   "cell_type": "code",
   "execution_count": null,
   "source": [
    "# Uploads table for symptom\n",
    "s_df = pd.read_csv('sql_symptom.csv')\n",
    "for row in range(0,s_df.shape[0]):\n",
    "    in_tuple = tuple(s_df.iloc[row, :])\n",
    "    symptom_handler(in_tuple)"
   ],
   "outputs": [],
   "metadata": {}
  },
  {
   "cell_type": "code",
   "execution_count": null,
   "source": [
    "# Uploads table for case_details\n",
    "cd_df = pd.read_csv('sql_case_details.csv')\n",
    "for row in range(0,cd_df.shape[0]):\n",
    "    in_tuple = tuple(cd_df.iloc[row, :])\n",
    "    case_details_handler(in_tuple)"
   ],
   "outputs": [],
   "metadata": {}
  },
  {
   "cell_type": "code",
   "execution_count": null,
   "source": [
    "# Uploads table for case_details\n",
    "case_df = pd.read_csv('sql_case.csv')\n",
    "for row in range(0,case_df.shape[0]):\n",
    "    con1 = False\n",
    "    con2 = False\n",
    "    in_tuple = tuple(case_df.iloc[row, :])\n",
    "    if type(in_tuple[3]) != str:\n",
    "        con1 = True\n",
    "    if type(in_tuple[5]) != str:\n",
    "        con2 = True\n",
    "    if con1 == True and con2 == True:\n",
    "        case_handler((in_tuple[0], in_tuple[1], in_tuple[2], None, in_tuple[4], None))\n",
    "    elif con1 == True and con2 == False:\n",
    "        case_handler((in_tuple[0], in_tuple[1], in_tuple[2], None, in_tuple[4], in_tuple[5]))\n",
    "    elif con1 == False and con2 == True:\n",
    "        case_handler((in_tuple[0], in_tuple[1], in_tuple[2], in_tuple[3], in_tuple[4], None))\n",
    "    else: \n",
    "        case_handler(in_tuple)"
   ],
   "outputs": [],
   "metadata": {}
  },
  {
   "cell_type": "code",
   "execution_count": null,
   "source": [
    "# Closes connection to the rdbs\n",
    "connection.close()"
   ],
   "outputs": [],
   "metadata": {}
  },
  {
   "cell_type": "code",
   "execution_count": 23,
   "source": [
    "query(\"SELECT DISTINCT case_date FROM `case` WHERE STR_TO_DATE(case_date, '%Y-%m-%d') >= STR_TO_DATE('2022-09-22', '%Y-%m-%d')\")"
   ],
   "outputs": [
    {
     "output_type": "execute_result",
     "data": {
      "text/plain": [
       "(('2022-09-22',),)"
      ]
     },
     "metadata": {},
     "execution_count": 23
    }
   ],
   "metadata": {}
  },
  {
   "cell_type": "code",
   "execution_count": null,
   "source": [],
   "outputs": [],
   "metadata": {}
  }
 ],
 "metadata": {
  "orig_nbformat": 4,
  "language_info": {
   "name": "python",
   "version": "3.10.0",
   "mimetype": "text/x-python",
   "codemirror_mode": {
    "name": "ipython",
    "version": 3
   },
   "pygments_lexer": "ipython3",
   "nbconvert_exporter": "python",
   "file_extension": ".py"
  },
  "kernelspec": {
   "name": "python3",
   "display_name": "Python 3.10.0 64-bit ('3.10.0')"
  },
  "interpreter": {
   "hash": "9204fa191f0fcaf9c61ca1f5ff3a4df7ba6fcba2c3c547282aeaf746cdc365de"
  }
 },
 "nbformat": 4,
 "nbformat_minor": 2
}